{
 "cells": [
  {
   "cell_type": "code",
   "execution_count": 2,
   "id": "c0528783-a265-4fa4-9295-34a299843a34",
   "metadata": {
    "tags": []
   },
   "outputs": [
    {
     "name": "stdout",
     "output_type": "stream",
     "text": [
      "Downcasting floats.\n"
     ]
    },
    {
     "data": {
      "text/html": [
       "<div>\n",
       "<style scoped>\n",
       "    .dataframe tbody tr th:only-of-type {\n",
       "        vertical-align: middle;\n",
       "    }\n",
       "\n",
       "    .dataframe tbody tr th {\n",
       "        vertical-align: top;\n",
       "    }\n",
       "\n",
       "    .dataframe thead th {\n",
       "        text-align: right;\n",
       "    }\n",
       "</style>\n",
       "<table border=\"1\" class=\"dataframe\">\n",
       "  <thead>\n",
       "    <tr style=\"text-align: right;\">\n",
       "      <th></th>\n",
       "      <th>player_id</th>\n",
       "      <th>player_name</th>\n",
       "      <th>player_display_name</th>\n",
       "      <th>position</th>\n",
       "      <th>position_group</th>\n",
       "      <th>headshot_url</th>\n",
       "      <th>recent_team</th>\n",
       "      <th>season</th>\n",
       "      <th>week</th>\n",
       "      <th>season_type</th>\n",
       "      <th>...</th>\n",
       "      <th>receiving_first_downs</th>\n",
       "      <th>receiving_epa</th>\n",
       "      <th>receiving_2pt_conversions</th>\n",
       "      <th>racr</th>\n",
       "      <th>target_share</th>\n",
       "      <th>air_yards_share</th>\n",
       "      <th>wopr</th>\n",
       "      <th>special_teams_tds</th>\n",
       "      <th>fantasy_points</th>\n",
       "      <th>fantasy_points_ppr</th>\n",
       "    </tr>\n",
       "  </thead>\n",
       "  <tbody>\n",
       "    <tr>\n",
       "      <th>0</th>\n",
       "      <td>00-0023459</td>\n",
       "      <td>A.Rodgers</td>\n",
       "      <td>Aaron Rodgers</td>\n",
       "      <td>QB</td>\n",
       "      <td>QB</td>\n",
       "      <td>https://static.www.nfl.com/image/private/f_aut...</td>\n",
       "      <td>NYJ</td>\n",
       "      <td>2023</td>\n",
       "      <td>1</td>\n",
       "      <td>REG</td>\n",
       "      <td>...</td>\n",
       "      <td>0.0</td>\n",
       "      <td>NaN</td>\n",
       "      <td>0</td>\n",
       "      <td>NaN</td>\n",
       "      <td>NaN</td>\n",
       "      <td>NaN</td>\n",
       "      <td>NaN</td>\n",
       "      <td>0.0</td>\n",
       "      <td>0.00</td>\n",
       "      <td>0.00</td>\n",
       "    </tr>\n",
       "    <tr>\n",
       "      <th>1</th>\n",
       "      <td>00-0026498</td>\n",
       "      <td>M.Stafford</td>\n",
       "      <td>Matthew Stafford</td>\n",
       "      <td>QB</td>\n",
       "      <td>QB</td>\n",
       "      <td>https://static.www.nfl.com/image/private/f_aut...</td>\n",
       "      <td>LA</td>\n",
       "      <td>2023</td>\n",
       "      <td>1</td>\n",
       "      <td>REG</td>\n",
       "      <td>...</td>\n",
       "      <td>0.0</td>\n",
       "      <td>NaN</td>\n",
       "      <td>0</td>\n",
       "      <td>NaN</td>\n",
       "      <td>NaN</td>\n",
       "      <td>NaN</td>\n",
       "      <td>NaN</td>\n",
       "      <td>0.0</td>\n",
       "      <td>14.46</td>\n",
       "      <td>14.46</td>\n",
       "    </tr>\n",
       "    <tr>\n",
       "      <th>2</th>\n",
       "      <td>00-0028002</td>\n",
       "      <td>R.Cobb</td>\n",
       "      <td>Randall Cobb</td>\n",
       "      <td>WR</td>\n",
       "      <td>WR</td>\n",
       "      <td>https://static.www.nfl.com/image/private/f_aut...</td>\n",
       "      <td>NYJ</td>\n",
       "      <td>2023</td>\n",
       "      <td>1</td>\n",
       "      <td>REG</td>\n",
       "      <td>...</td>\n",
       "      <td>0.0</td>\n",
       "      <td>-3.924131</td>\n",
       "      <td>0</td>\n",
       "      <td>0.0</td>\n",
       "      <td>0.055556</td>\n",
       "      <td>0.133333</td>\n",
       "      <td>0.176667</td>\n",
       "      <td>0.0</td>\n",
       "      <td>0.00</td>\n",
       "      <td>0.00</td>\n",
       "    </tr>\n",
       "    <tr>\n",
       "      <th>3</th>\n",
       "      <td>00-0028118</td>\n",
       "      <td>T.Taylor</td>\n",
       "      <td>Tyrod Taylor</td>\n",
       "      <td>QB</td>\n",
       "      <td>QB</td>\n",
       "      <td>https://static.www.nfl.com/image/private/f_aut...</td>\n",
       "      <td>NYG</td>\n",
       "      <td>2023</td>\n",
       "      <td>1</td>\n",
       "      <td>REG</td>\n",
       "      <td>...</td>\n",
       "      <td>0.0</td>\n",
       "      <td>NaN</td>\n",
       "      <td>0</td>\n",
       "      <td>NaN</td>\n",
       "      <td>NaN</td>\n",
       "      <td>NaN</td>\n",
       "      <td>NaN</td>\n",
       "      <td>0.0</td>\n",
       "      <td>0.24</td>\n",
       "      <td>0.24</td>\n",
       "    </tr>\n",
       "    <tr>\n",
       "      <th>4</th>\n",
       "      <td>00-0029263</td>\n",
       "      <td>R.Wilson</td>\n",
       "      <td>Russell Wilson</td>\n",
       "      <td>QB</td>\n",
       "      <td>QB</td>\n",
       "      <td>https://static.www.nfl.com/image/private/f_aut...</td>\n",
       "      <td>DEN</td>\n",
       "      <td>2023</td>\n",
       "      <td>1</td>\n",
       "      <td>REG</td>\n",
       "      <td>...</td>\n",
       "      <td>0.0</td>\n",
       "      <td>NaN</td>\n",
       "      <td>0</td>\n",
       "      <td>NaN</td>\n",
       "      <td>NaN</td>\n",
       "      <td>NaN</td>\n",
       "      <td>NaN</td>\n",
       "      <td>0.0</td>\n",
       "      <td>15.18</td>\n",
       "      <td>15.18</td>\n",
       "    </tr>\n",
       "  </tbody>\n",
       "</table>\n",
       "<p>5 rows × 53 columns</p>\n",
       "</div>"
      ],
      "text/plain": [
       "    player_id player_name player_display_name position position_group   \n",
       "0  00-0023459   A.Rodgers       Aaron Rodgers       QB             QB  \\\n",
       "1  00-0026498  M.Stafford    Matthew Stafford       QB             QB   \n",
       "2  00-0028002      R.Cobb        Randall Cobb       WR             WR   \n",
       "3  00-0028118    T.Taylor        Tyrod Taylor       QB             QB   \n",
       "4  00-0029263    R.Wilson      Russell Wilson       QB             QB   \n",
       "\n",
       "                                        headshot_url recent_team  season   \n",
       "0  https://static.www.nfl.com/image/private/f_aut...         NYJ    2023  \\\n",
       "1  https://static.www.nfl.com/image/private/f_aut...          LA    2023   \n",
       "2  https://static.www.nfl.com/image/private/f_aut...         NYJ    2023   \n",
       "3  https://static.www.nfl.com/image/private/f_aut...         NYG    2023   \n",
       "4  https://static.www.nfl.com/image/private/f_aut...         DEN    2023   \n",
       "\n",
       "   week season_type  ... receiving_first_downs  receiving_epa   \n",
       "0     1         REG  ...                   0.0            NaN  \\\n",
       "1     1         REG  ...                   0.0            NaN   \n",
       "2     1         REG  ...                   0.0      -3.924131   \n",
       "3     1         REG  ...                   0.0            NaN   \n",
       "4     1         REG  ...                   0.0            NaN   \n",
       "\n",
       "   receiving_2pt_conversions  racr  target_share  air_yards_share      wopr   \n",
       "0                          0   NaN           NaN              NaN       NaN  \\\n",
       "1                          0   NaN           NaN              NaN       NaN   \n",
       "2                          0   0.0      0.055556         0.133333  0.176667   \n",
       "3                          0   NaN           NaN              NaN       NaN   \n",
       "4                          0   NaN           NaN              NaN       NaN   \n",
       "\n",
       "   special_teams_tds  fantasy_points  fantasy_points_ppr  \n",
       "0                0.0            0.00                0.00  \n",
       "1                0.0           14.46               14.46  \n",
       "2                0.0            0.00                0.00  \n",
       "3                0.0            0.24                0.24  \n",
       "4                0.0           15.18               15.18  \n",
       "\n",
       "[5 rows x 53 columns]"
      ]
     },
     "execution_count": 2,
     "metadata": {},
     "output_type": "execute_result"
    }
   ],
   "source": [
    "import nfl_data_py as nfl\n",
    "\n",
    "weekly = nfl.import_weekly_data([2023])\n",
    "weekly.head()"
   ]
  },
  {
   "cell_type": "code",
   "execution_count": 3,
   "id": "eef37e65-9837-4b9d-b0a0-3f54404ca916",
   "metadata": {
    "tags": []
   },
   "outputs": [
    {
     "data": {
      "text/plain": [
       "RangeIndex(start=0, stop=313, step=1)"
      ]
     },
     "execution_count": 3,
     "metadata": {},
     "output_type": "execute_result"
    }
   ],
   "source": [
    "weekly.index"
   ]
  },
  {
   "cell_type": "code",
   "execution_count": 4,
   "id": "85922c4d-1fe7-45fc-b94f-b386a973422c",
   "metadata": {
    "tags": []
   },
   "outputs": [
    {
     "data": {
      "text/plain": [
       "Index(['player_id', 'player_name', 'player_display_name', 'position',\n",
       "       'position_group', 'headshot_url', 'recent_team', 'season', 'week',\n",
       "       'season_type', 'opponent_team', 'completions', 'attempts',\n",
       "       'passing_yards', 'passing_tds', 'interceptions', 'sacks', 'sack_yards',\n",
       "       'sack_fumbles', 'sack_fumbles_lost', 'passing_air_yards',\n",
       "       'passing_yards_after_catch', 'passing_first_downs', 'passing_epa',\n",
       "       'passing_2pt_conversions', 'pacr', 'dakota', 'carries', 'rushing_yards',\n",
       "       'rushing_tds', 'rushing_fumbles', 'rushing_fumbles_lost',\n",
       "       'rushing_first_downs', 'rushing_epa', 'rushing_2pt_conversions',\n",
       "       'receptions', 'targets', 'receiving_yards', 'receiving_tds',\n",
       "       'receiving_fumbles', 'receiving_fumbles_lost', 'receiving_air_yards',\n",
       "       'receiving_yards_after_catch', 'receiving_first_downs', 'receiving_epa',\n",
       "       'receiving_2pt_conversions', 'racr', 'target_share', 'air_yards_share',\n",
       "       'wopr', 'special_teams_tds', 'fantasy_points', 'fantasy_points_ppr'],\n",
       "      dtype='object')"
      ]
     },
     "execution_count": 4,
     "metadata": {},
     "output_type": "execute_result"
    }
   ],
   "source": [
    "weekly.columns"
   ]
  },
  {
   "cell_type": "code",
   "execution_count": 6,
   "id": "ae7949c6-5568-47d5-b79e-d7f2f3f97912",
   "metadata": {
    "tags": []
   },
   "outputs": [
    {
     "data": {
      "text/plain": [
       "0         A.Rodgers\n",
       "1        M.Stafford\n",
       "2            R.Cobb\n",
       "3          T.Taylor\n",
       "4          R.Wilson\n",
       "           ...     \n",
       "308          J.Reed\n",
       "309         B.Young\n",
       "310        C.Stroud\n",
       "311    A.Richardson\n",
       "312    Z.Charbonnet\n",
       "Name: player_name, Length: 313, dtype: object"
      ]
     },
     "execution_count": 6,
     "metadata": {},
     "output_type": "execute_result"
    }
   ],
   "source": [
    "weekly[\"player_name\"]"
   ]
  },
  {
   "cell_type": "code",
   "execution_count": 7,
   "id": "9708e1bb-968e-493a-a8f7-5d10863d1c0d",
   "metadata": {
    "tags": []
   },
   "outputs": [
    {
     "data": {
      "text/plain": [
       "0         A.Rodgers\n",
       "1        M.Stafford\n",
       "2            R.Cobb\n",
       "3          T.Taylor\n",
       "4          R.Wilson\n",
       "           ...     \n",
       "308          J.Reed\n",
       "309         B.Young\n",
       "310        C.Stroud\n",
       "311    A.Richardson\n",
       "312    Z.Charbonnet\n",
       "Name: player_name, Length: 313, dtype: object"
      ]
     },
     "execution_count": 7,
     "metadata": {},
     "output_type": "execute_result"
    }
   ],
   "source": [
    "weekly.player_name"
   ]
  },
  {
   "cell_type": "code",
   "execution_count": 8,
   "id": "cb7ab580-abe7-49a1-bab3-15b8706594f2",
   "metadata": {
    "tags": []
   },
   "outputs": [
    {
     "data": {
      "text/plain": [
       "0         A.Rodgers\n",
       "1        M.Stafford\n",
       "2            R.Cobb\n",
       "3          T.Taylor\n",
       "4          R.Wilson\n",
       "           ...     \n",
       "308          J.Reed\n",
       "309         B.Young\n",
       "310        C.Stroud\n",
       "311    A.Richardson\n",
       "312    Z.Charbonnet\n",
       "Name: player_name, Length: 313, dtype: object"
      ]
     },
     "execution_count": 8,
     "metadata": {},
     "output_type": "execute_result"
    }
   ],
   "source": [
    "player_names = weekly.player_name\n",
    "player_names"
   ]
  },
  {
   "cell_type": "code",
   "execution_count": 9,
   "id": "03d8bd13-62aa-469e-bcd0-fe9011190725",
   "metadata": {
    "tags": []
   },
   "outputs": [
    {
     "data": {
      "text/plain": [
       "'K.Cousins'"
      ]
     },
     "execution_count": 9,
     "metadata": {},
     "output_type": "execute_result"
    }
   ],
   "source": [
    "player_names[6]"
   ]
  },
  {
   "cell_type": "code",
   "execution_count": 10,
   "id": "c08d71f3-9af4-4998-9e34-37b500c07830",
   "metadata": {
    "tags": []
   },
   "outputs": [
    {
     "data": {
      "text/plain": [
       "6       K.Cousins\n",
       "7     R.Tannehill\n",
       "8       A.Thielen\n",
       "9          Z.Ertz\n",
       "10      M.Goodwin\n",
       "11        K.Allen\n",
       "12        R.Woods\n",
       "13       L.Murray\n",
       "14      D.Hopkins\n",
       "15        G.Smith\n",
       "16      O.Beckham\n",
       "17        B.Cooks\n",
       "18       L.Thomas\n",
       "19         D.Carr\n",
       "20    J.Garoppolo\n",
       "21     J.McKinnon\n",
       "22        D.Adams\n",
       "23        M.Evans\n",
       "24     A.Robinson\n",
       "Name: player_name, dtype: object"
      ]
     },
     "execution_count": 10,
     "metadata": {},
     "output_type": "execute_result"
    }
   ],
   "source": [
    "player_names[6:25]"
   ]
  },
  {
   "cell_type": "code",
   "execution_count": 24,
   "id": "c8e7fea9-dd94-42ff-85cd-542081161c0d",
   "metadata": {
    "tags": []
   },
   "outputs": [
    {
     "data": {
      "text/plain": [
       "<Axes: xlabel='player_name', ylabel='fantasy_points_ppr'>"
      ]
     },
     "execution_count": 24,
     "metadata": {},
     "output_type": "execute_result"
    },
    {
     "data": {
      "image/png": "[encoded data removed]",
      "text/plain": [
       "<Figure size 640x480 with 1 Axes>"
      ]
     },
     "metadata": {},
     "output_type": "display_data"
    }
   ],
   "source": [
    "QBS = weekly.loc[weekly['position'] == 'QB']\n",
    "QBFP = QBS[['player_name','fantasy_points_ppr']].copy()\n",
    "QBFP = QBFP.sort_values('fantasy_points_ppr')\n",
    "QBFP.plot.scatter(x = 'player_name', y = 'fantasy_points_ppr', rot=90)"
   ]
  },
  {
   "cell_type": "code",
   "execution_count": null,
   "id": "a9b0e338-8709-4777-83f1-383870ac2e16",
   "metadata": {},
   "outputs": [],
   "source": []
  }
 ],
 "metadata": {
  "kernelspec": {
   "display_name": "Python 3 (ipykernel)",
   "language": "python",
   "name": "python3"
  },
  "language_info": {
   "codemirror_mode": {
    "name": "ipython",
    "version": 3
   },
   "file_extension": ".py",
   "mimetype": "text/x-python",
   "name": "python",
   "nbconvert_exporter": "python",
   "pygments_lexer": "ipython3",
   "version": "3.10.12"
  }
 },
 "nbformat": 4,
 "nbformat_minor": 5
}
